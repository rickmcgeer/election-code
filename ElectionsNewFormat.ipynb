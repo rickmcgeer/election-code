{
 "cells": [
  {
   "cell_type": "markdown",
   "metadata": {},
   "source": [
    "# Presidential Election Notebook\n",
    "This notebook takes the raw Presidential Elections spreadsheet in elections.csv and converts it into a GoogleDataTable, output as the file presidential_data_google.json.  This involves:\n",
    "1. Splitting the combined field \\<candidateName> - \\<party> into two fields, candidate and party\n",
    "2. Converting years to integers and putting in the missing years (converting '2016', '', '' to 2016, 2016, 2016\n",
    "3. Collecting the cells of a particular state and year into a structure, with the individual candidates as a list\n",
    "4. Converting the votes into integers, and then, for each result, adding a percentage float\n",
    "5. generating the individual records (state, year, candidate, party, votes, percentage) as a list\n",
    "6. adding the description\n",
    "7. creating the data table\n",
    "8. Writing this out as a JSON (GT) file\n",
    "\n"
   ]
  },
  {
   "cell_type": "code",
   "execution_count": 9,
   "metadata": {},
   "outputs": [],
   "source": [
    "\n",
    "import json"
   ]
  },
  {
   "cell_type": "markdown",
   "metadata": {},
   "source": [
    "Import the client, put in the room (by hand, this will change) and get a connection.  The room must be the same as for the dashboard."
   ]
  },
  {
   "cell_type": "markdown",
   "metadata": {},
   "source": [
    "Step 1: Read in the CSV"
   ]
  },
  {
   "cell_type": "code",
   "execution_count": 10,
   "metadata": {},
   "outputs": [],
   "source": [
    "import csv\n",
    "f = open('elections.csv', 'r')\n",
    "election_reader = csv.reader(f)\n",
    "rows = [row for row in election_reader]\n",
    "f.close()"
   ]
  },
  {
   "cell_type": "markdown",
   "metadata": {},
   "source": [
    "In the raw file, candidates and parties are in the same field, split by a dash.  Separate into two fields"
   ]
  },
  {
   "cell_type": "code",
   "execution_count": 11,
   "metadata": {},
   "outputs": [],
   "source": [
    "candidate_row = rows[1]\n",
    "candidate_fields = [field.split(' - ') for field in candidate_row]\n",
    "candidates = [field[0] for field in candidate_fields]\n",
    "parties = [field[1] if len(field) == 2 else field[0] for field in candidate_fields]\n"
   ]
  },
  {
   "cell_type": "markdown",
   "metadata": {},
   "source": [
    "There are missing years in the data -- the year is only present in the first cell of a year.  Fill in the rest.  Also, convert each actual year to an integer."
   ]
  },
  {
   "cell_type": "code",
   "execution_count": 12,
   "metadata": {},
   "outputs": [],
   "source": [
    "years = rows[0]\n",
    "last_year = years[0]\n",
    "for i in range(1, len(years)):\n",
    "    if (years[i] == ''):\n",
    "        years[i] = last_year\n",
    "    else:\n",
    "        last_year = years[i]\n",
    "years = ['Years'] + [int(year) for year in years[1:]]\n"
   ]
  },
  {
   "cell_type": "markdown",
   "metadata": {},
   "source": [
    "A record for each state and year.  We are going to (1) create the state and year; (2) add the votes for each candidate to the record, putting total in total,\n",
    "and then (3) create the percentage once everything has been read.  Note that we're going to trim records with zero total before creating the percentages.  As a side effect, when adding percentages we also add state and year to the record, because this is what we'll want in the row."
   ]
  },
  {
   "cell_type": "code",
   "execution_count": 13,
   "metadata": {},
   "outputs": [],
   "source": [
    "class StateAndYear:\n",
    "    def __init__(self, state, year):\n",
    "        self.year = int(year)\n",
    "        self.state = state\n",
    "        self.candidates = []\n",
    "        self.total = 0\n",
    "        \n",
    "    def add_candidate(self, candidate, party, votes):\n",
    "        if (candidate == 'Total'):\n",
    "            self.total = votes\n",
    "        else:\n",
    "            self.candidates.append([candidate, party, votes])\n",
    "    \n",
    "    def add_percentages(self):\n",
    "        self.candidates = [[self.state, self.year, cand[0], cand[1], cand[2], round(100 * cand[2]/self.total, 1), round(cand[2]/self.total, 3)] for cand in self.candidates]"
   ]
  },
  {
   "cell_type": "markdown",
   "metadata": {},
   "source": [
    "Create the state and year records, sticking them in a dictionary indexed by state and year.  Note that votes are converted to int before being added to the record."
   ]
  },
  {
   "cell_type": "code",
   "execution_count": 14,
   "metadata": {},
   "outputs": [],
   "source": [
    "state_and_year_dictionary = {}\n",
    "year_set  = set(years[1:])\n",
    "for row in rows[2:]:\n",
    "    state = row[0]\n",
    "    for year in year_set:\n",
    "        state_and_year_dictionary[(state, year)] = StateAndYear(state, year)\n",
    "    for index in range(1, len(row)):\n",
    "        try:\n",
    "            votes = int(row[index])\n",
    "            year = years[index]\n",
    "            candidate = candidates[index]\n",
    "            party = parties[index]\n",
    "            state_and_year_dictionary[(state, year)].add_candidate(candidate, party, votes)\n",
    "        except ValueError:\n",
    "            pass"
   ]
  },
  {
   "cell_type": "markdown",
   "metadata": {},
   "source": [
    "Trim the records with 0 total, add the percentages, collect and sort the records, and add a header"
   ]
  },
  {
   "cell_type": "code",
   "execution_count": 15,
   "metadata": {},
   "outputs": [],
   "source": [
    "record_list = [record for record in state_and_year_dictionary.values() if record.total > 0]\n",
    "for record in record_list:\n",
    "    record.add_percentages()\n",
    "    \n",
    "data = []\n",
    "for record in record_list:\n",
    "    data = data + record.candidates\n",
    "\n",
    "party_aliases = {\"Republican\": {\"Republican\", 'National Republican','National Union (Republican)', 'Whig'}, \"Democratic\": {'Democratic', 'Liberal Republican/Democratic', '(Northern) Democratic'}}\n",
    "\n",
    "def unalias_party(party):\n",
    "    return \"Republican\" if party in party_aliases[\"Republican\"] else \"Democratic\" if party in party_aliases[\"Democratic\"] else party\n",
    "\n",
    "def compare_parties(party1, party2):\n",
    "    rp1 = unalias_party(party1)\n",
    "    rp2 = unalias_party(party2)\n",
    "    if (rp1 == 'Democratic'):\n",
    "        return -1\n",
    "    if (rp2 == 'Democratic'):\n",
    "        return 1\n",
    "    if (rp1 == 'Republican'):\n",
    "        return -1\n",
    "    if (rp2 == 'Republican'):\n",
    "        return 1\n",
    "    return -1 if party1 < party2 else 1\n",
    "\n",
    "def compare_states(state1, state2):\n",
    "    if (state1 == 'Nationwide'): return -1\n",
    "    if (state2 == 'Nationwide'): return 1\n",
    "    return -1 if state1 < state2 else 1\n",
    "    \n",
    "    \n",
    "import functools\n",
    "def mycmp(record1, record2):\n",
    "    if (record1[1] == record2[1]):\n",
    "        if (record1[0] == record2[0]):\n",
    "            return compare_parties(record1[3], record2[3])\n",
    "        return compare_states(record1[0], record2[0])\n",
    "    return -1 if record1[1] < record2[1] else 1\n",
    "\n",
    "data.sort(key = functools.cmp_to_key(mycmp))"
   ]
  },
  {
   "cell_type": "code",
   "execution_count": 17,
   "metadata": {},
   "outputs": [],
   "source": [
    "\n",
    "schema = [{\"name\": \"State\", \"type\": \"string\"}, {\"name\": \"Year\", \"type\": \"number\"}, {\"name\":\"Candidate\", \"type\":  \"string\"}, {\"name\": \"Party\", \"type\": \"string\"},\n",
    "          {\"name\": \"Votes\", \"type\": \"number\"}, {\"name\": \"Percentage\", \"type\": \"number\"}, {\"name\": \"Pct\", \"type\": \"number\"}]\n",
    "presidential_vote  = {\"columns\": schema, \"rows\": data}"
   ]
  },
  {
   "cell_type": "markdown",
   "metadata": {},
   "source": [
    "Prepare the pivot table.  Dig out all of the values for the parties from the original record list, then create a sorted list with the major parties \n",
    "as the first two, and the remainder alphabetic.\n"
   ]
  },
  {
   "cell_type": "code",
   "execution_count": 18,
   "metadata": {},
   "outputs": [],
   "source": [
    "def parties(state_and_year):\n",
    "    return set([record[3] for record in state_and_year.candidates])\n",
    "all_parties = parties(record_list[0])\n",
    "for record in record_list[1:]:\n",
    "    all_parties = all_parties.union(parties(record))\n",
    "party_list = list(all_parties)\n",
    "party_list.sort(key = lambda p1:  -1 if p1 == 'Democratic' else 0 if p1 == 'Republican' else 1)"
   ]
  },
  {
   "cell_type": "markdown",
   "metadata": {},
   "source": [
    "Construct the pivot table.   This takes us from a table which is (Year, State, Party, Percentage) to (Year, State, Democratic, Republican....) where the values in each party column are the percentages for that party for that state and year.  "
   ]
  },
  {
   "cell_type": "code",
   "execution_count": 19,
   "metadata": {},
   "outputs": [],
   "source": [
    "def make_pivot_row(record):\n",
    "    result = [0 for party in party_list]\n",
    "    for candidate in record.candidates:\n",
    "        index = party_list.index(candidate[3])\n",
    "        result[index] = candidate[5]\n",
    "    first_candidate = record.candidates[0]\n",
    "    result = [first_candidate[0], first_candidate[1]] + result\n",
    "    return result\n",
    "pivot_table_rows = [make_pivot_row(record) for record in record_list]"
   ]
  },
  {
   "cell_type": "markdown",
   "metadata": {},
   "source": [
    "Construct the pivot table schema, create the data table, and send it to the dashboard"
   ]
  },
  {
   "cell_type": "code",
   "execution_count": 20,
   "metadata": {},
   "outputs": [],
   "source": [
    "pivot_schema = [{\"name\": \"State\", \"type\": \"string\"}, {\"name\": \"Year\", \"type\": \"number\"}] + [{\"name\": party, \"type\": \"number\"} for party in party_list]\n",
    "presidential_vote_by_party = {\"columns\": schema, \"rows\": pivot_table_rows}"
   ]
  },
  {
   "cell_type": "markdown",
   "metadata": {},
   "source": [
    "Compute the margin table.  This will be a table of schema (Year, State, Margin) where Margin ranges from +5 to -5, integers.  Democratic margins are positive, Republican negative.  The margin is the actual margin divide by 2, capped at 5.  Where a third-party candidate won, the margin is 0.\n",
    "Candidates have run under different banners, particularly in the 19th Century, so we normalize candidates to Republican, Democratic, or Other using\n",
    "an aliases table, and then compute the margin in a straightforward way"
   ]
  },
  {
   "cell_type": "code",
   "execution_count": 21,
   "metadata": {},
   "outputs": [],
   "source": [
    "aliases = {\"Republican\": {\"Republican\", 'National Republican','National Union (Republican)', 'Whig', 'Constitutional Union'}, \"Democratic\": {'Democratic', 'Liberal Republican/Democratic', '(Northern) Democratic','Southern Democratic'}}\n",
    "\n",
    "def make_color_record(record):\n",
    "    result = [0, 0, 0]\n",
    "    for candidate in record.candidates:\n",
    "        party = candidate[3]\n",
    "        index = (0 if party in aliases[\"Democratic\"] else 1 if party in aliases[\"Republican\"] else 2)\n",
    "        result[index] += candidate[5]\n",
    "    off_scale = result[2] > result[1] and result[2] > result[0]\n",
    "    absolute_margin = 0 if off_scale else result[0] - result[1]\n",
    "    margin = min(5, max(round(absolute_margin/2), -5))\n",
    "    reference = record.candidates[0]\n",
    "    # reference[0] is the year, reference[1] is the state\n",
    "    return [reference[0], reference[1], margin]"
   ]
  },
  {
   "cell_type": "code",
   "execution_count": 22,
   "metadata": {},
   "outputs": [],
   "source": [
    "color_data = [make_color_record(record) for record in record_list]\n",
    "# we are only interested in state data, so throw out \"Nationwide\"\n",
    "color_data = [record for record in color_data if record[0] != 'Nationwide']"
   ]
  },
  {
   "cell_type": "markdown",
   "metadata": {},
   "source": [
    "Set the schema for the margin table, create the table from the schema, load the rows (which are in color_data) and send to the dashboard."
   ]
  },
  {
   "cell_type": "code",
   "execution_count": 37,
   "metadata": {},
   "outputs": [],
   "source": [
    "color_schema = [{\"name\": \"State\", \"type\": \"string\"}, {\"name\": \"Year\", \"type\": \"number\"}, {\"name\":  \"Margin\", \"type\": \"Number\"}]\n",
    "presidential_vote_margins = {\"columns\": color_schema, \"rows\": color_data}\n"
   ]
  },
  {
   "cell_type": "markdown",
   "metadata": {},
   "source": [
    "Create and send to the dashboard the electoral college table.  This involves primarily normalizing the party lists, and then writing out a table with the schema (Year, Democratic, Republican, ...), where each column contains the electoral votes for that party in that year."
   ]
  },
  {
   "cell_type": "code",
   "execution_count": 25,
   "metadata": {},
   "outputs": [],
   "source": [
    "f = open('electoral_college.csv')"
   ]
  },
  {
   "cell_type": "code",
   "execution_count": 26,
   "metadata": {},
   "outputs": [],
   "source": [
    "import csv\n",
    "ec_reader = csv.reader(f)\n",
    "ec_records = [row for row in ec_reader]\n",
    "f.close()"
   ]
  },
  {
   "cell_type": "code",
   "execution_count": 27,
   "metadata": {},
   "outputs": [],
   "source": [
    "def real_party(party):\n",
    "    party_map = [('', 'Other'), ( 'Democratic', 'Democratic'), ( 'National Republican', 'Whig'), ( 'American (Know-Nothing)', 'Know-Nothing', ),\n",
    "                 ( 'American Independent', 'American Independent'), ( 'Anti-Jackson', 'Anti-Jackson'), ( 'Anti-Masonic', 'Anti-Masonic'),\n",
    "                 ( 'Constitutional Union', 'Constitutional Union'), ( 'Democrat', 'Democratic', ), ( 'Democratic', 'Democratic', ),\n",
    "                 ( 'Democratic/Liberal Republican', 'Democratic/Liberal Republican'), ( 'Independent-Democratic', 'Democratic'), ( 'Libertarian', 'Libertarian'),\n",
    "                 ( 'Nullifiers', 'Nullifiers', ), ( \"People's (Populist)\", \"People's (Populist)\"), ( 'Progressive', \"Progressive\"),\n",
    "                 ( 'Progressive (Bull Moose)', \"Progressive\"), ( 'Republican', \"Republican\"), ( 'Southern Democratic', \"Southern Democratic\", ),\n",
    "                 ( \"States' Rights Democratic (Dixiecrat)\", \"Dixiecrat\"), ( 'Whig', \"Whig\"), ( 'not a candidate', \"Other\")]\n",
    "    match = [map for map in party_map if party == map[0]]\n",
    "    if (len(match) == 0):\n",
    "        return None\n",
    "    return match[0][1]"
   ]
  },
  {
   "cell_type": "markdown",
   "metadata": {},
   "source": [
    "The input schema is in the form (year, candidate, party, votes) and we want a schema in the form (year, party, votes) where party has been normalized using real_party."
   ]
  },
  {
   "cell_type": "code",
   "execution_count": 30,
   "metadata": {},
   "outputs": [],
   "source": [
    "output_records = [[int(record[0]), real_party(record[2]), int(record[3])] for record in ec_records[1:]]\n",
    "output_records\n",
    "ec_schema = [{\"name\": 'Year', \"type\": 'number'}, {\"name\": 'Party', \"type\": 'string'}, {\"name\": 'Votes', \"type\": 'number'}]\n",
    "ec_table = {\"columns\": ec_schema, \"rows\": output_records}"
   ]
  },
  {
   "cell_type": "code",
   "execution_count": 38,
   "metadata": {},
   "outputs": [],
   "source": [
    "def save_data_to_disk(table_name, data_table):\n",
    "    table_record = {\"name\": table_name, \"table\": data_table}\n",
    "    f = open(f'{table_name}.gt.json', 'w')\n",
    "    f.write(json.dumps(table_record))\n",
    "    f.close()\n",
    "save_data_to_disk(\"electoral_college\", ec_table)\n",
    "save_data_to_disk(\"presidential_vote_margins\", presidential_vote_margins)\n",
    "save_data_to_disk(\"presidential_vote_by_party\", presidential_vote_by_party)\n",
    "save_data_to_disk(\"presidential_vote\", presidential_vote)"
   ]
  },
  {
   "cell_type": "code",
   "execution_count": null,
   "metadata": {},
   "outputs": [],
   "source": []
  }
 ],
 "metadata": {
  "kernelspec": {
   "display_name": "Python 3",
   "language": "python",
   "name": "python3"
  },
  "language_info": {
   "codemirror_mode": {
    "name": "ipython",
    "version": 3
   },
   "file_extension": ".py",
   "mimetype": "text/x-python",
   "name": "python",
   "nbconvert_exporter": "python",
   "pygments_lexer": "ipython3",
   "version": "3.7.3"
  }
 },
 "nbformat": 4,
 "nbformat_minor": 4
}
