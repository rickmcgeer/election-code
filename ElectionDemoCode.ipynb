{
 "cells": [
  {
   "cell_type": "markdown",
   "metadata": {},
   "source": [
    "Read the state election data from the csv file and the electoral college data from the JSON file"
   ]
  },
  {
   "cell_type": "code",
   "execution_count": null,
   "metadata": {},
   "outputs": [],
   "source": [
    "import numpy as np\n",
    "import pandas as pd\n",
    "import csv\n",
    "\n",
    "election_data = pd.read_csv('election-rows.csv', header = [0])\n",
    "election_data"
   ]
  },
  {
   "cell_type": "markdown",
   "metadata": {},
   "source": [
    "Now read the JSON file with the electoral college data.  The JSON file is something of a variant: its structure is as a dictionary of list of lists, where the first list gives the column order for that year and the remainder the values, e.g., {\"1828\": \\[\\['Party', 'Votes'\\], \\['Democratic', 200], \\['Whig': 100\\]\\]}.  This is as opposed to the more reasonable {\"1828\": {\"Whig\": 100}, {\"Democratic\": 200}}.  As it happens, I know in this case it's Party first, so I will just hard-code that in this case."
   ]
  },
  {
   "cell_type": "code",
   "execution_count": null,
   "metadata": {},
   "outputs": [],
   "source": [
    "import json\n",
    "f = open('electoral-college.json', 'r')\n",
    "buffer = f.read()\n",
    "f.close()\n",
    "data = json.loads(buffer)\n",
    "result = []\n",
    "for year in data:\n",
    "    year_record = data[year]\n",
    "    year = int(year)\n",
    "    for record in year_record[1:]:\n",
    "        result.append([year, record[0], record[1]])\n",
    "electoral_college_data = pd.DataFrame(result, columns=['Year', 'Party', 'Votes'])\n",
    "electoral_college_data"
   ]
  },
  {
   "cell_type": "markdown",
   "metadata": {},
   "source": [
    "key_to_columns is one of the major routines that we will need to prepare a flat table to be a chart.  What we have is a set of records with the fields (in this case) (state, year, candidate, party, votes, pct), and what we want (say) is a table of the form (year, republican votes, democrat votes).  republican, democrat are values in the party field.\n",
    "Arguments:\n",
    "* df: data frame in the flat form\n",
    "* key_name: field to extract the values from\n",
    "* merge_name: the field which is common to both (in the example above, year)\n",
    "* rename_value_name: the field which is to be extracted and renamed for the value of the key name.  In the example above, votes is renamed republican or democrat"
   ]
  },
  {
   "cell_type": "code",
   "execution_count": null,
   "metadata": {},
   "outputs": [],
   "source": [
    "def key_to_columns(df, key_name, merge_name, rename_value_name):\n",
    "    key_values = set(df[key_name].tolist())\n",
    "    frames = []\n",
    "    for value in key_values:\n",
    "        value_record_frame = df[df[key_name] == value][[merge_name, rename_value_name]].rename(columns = {rename_value_name: value})\n",
    "        frames.append(value_record_frame)\n",
    "    result = frames[0]\n",
    "    for frame in frames[1:]:\n",
    "        result = pd.merge(result, frame, on=merge_name, how='outer')\n",
    "    return result\n"
   ]
  },
  {
   "cell_type": "markdown",
   "metadata": {},
   "source": [
    "Get the data for the year.  This returns a table (data frame) with fields (Party, State, Pct), which shows the percentage each party got in the selected year.  This colors the map (not quite) in the demo"
   ]
  },
  {
   "cell_type": "code",
   "execution_count": null,
   "metadata": {},
   "outputs": [],
   "source": [
    "def get_data_for_year(year):\n",
    "    data = election_data[election_data['Year'] == year]\n",
    "    return key_to_columns(data, 'Party', 'State', 'Pct')\n",
    "get_data_for_year(1960)"
   ]
  },
  {
   "cell_type": "markdown",
   "metadata": {},
   "source": [
    "Get the data for the state year.  This returns a table (data frame) with fields (Candidate, Party, Votes), which shows the votes each candidate  got in the selected year and state.  This fills the bottom-left image chart in the demo"
   ]
  },
  {
   "cell_type": "code",
   "execution_count": null,
   "metadata": {},
   "outputs": [],
   "source": [
    "def get_data_for_year_and_state(year, state):\n",
    "    return election_data[(election_data['Year'] == year)  & (election_data['State'] == state)][['Candidate', 'Party', 'Votes']]\n",
    "get_data_for_year_and_state(1904, 'Illinois')"
   ]
  },
  {
   "cell_type": "markdown",
   "metadata": {},
   "source": [
    "Get the historical data for each state.  This returns a data frame with fields (Year, Party, Pct Vote).  This is the data for the line chart in the bottom right."
   ]
  },
  {
   "cell_type": "code",
   "execution_count": null,
   "metadata": {},
   "outputs": [],
   "source": [
    "def get_data_for_state(state):\n",
    "    return key_to_columns(election_data[election_data['State'] == state], 'Party', 'Year', 'Pct') \n",
    "get_data_for_state('Illinois')"
   ]
  },
  {
   "cell_type": "markdown",
   "metadata": {},
   "source": [
    "Get the electoral college data for a year.  This is really simple, doesn't even need a function"
   ]
  },
  {
   "cell_type": "code",
   "execution_count": null,
   "metadata": {},
   "outputs": [],
   "source": [
    "electoral_college_data[electoral_college_data['Year'] == 1828][['Party', 'Votes']]"
   ]
  },
  {
   "cell_type": "markdown",
   "metadata": {},
   "source": [
    "And, finally, the data for the pie chart in the top right"
   ]
  },
  {
   "cell_type": "code",
   "execution_count": null,
   "metadata": {},
   "outputs": [],
   "source": [
    "def get_summary_for_year(year):\n",
    "    data = election_data[(election_data['Year'] == year) & (election_data['State'] == 'Nationwide') & (election_data['Party'] != 'Total')][['Party', 'Pct']]\n",
    "    return data\n",
    "get_summary_for_year(1960)"
   ]
  },
  {
   "cell_type": "code",
   "execution_count": null,
   "metadata": {},
   "outputs": [],
   "source": []
  }
 ],
 "metadata": {
  "kernelspec": {
   "display_name": "Python 3",
   "language": "python",
   "name": "python3"
  },
  "language_info": {
   "codemirror_mode": {
    "name": "ipython",
    "version": 3
   },
   "file_extension": ".py",
   "mimetype": "text/x-python",
   "name": "python",
   "nbconvert_exporter": "python",
   "pygments_lexer": "ipython3",
   "version": "3.7.3"
  }
 },
 "nbformat": 4,
 "nbformat_minor": 4
}
