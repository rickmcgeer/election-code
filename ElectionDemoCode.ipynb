{
 "cells": [
  {
   "cell_type": "code",
   "execution_count": null,
   "metadata": {},
   "outputs": [],
   "source": [
    "import numpy as np\n",
    "import pandas as pd\n",
    "import csv\n",
    "election_data = pd.read_csv('election-rows.csv', header = [0])\n",
    "election_data"
   ]
  },
  {
   "cell_type": "markdown",
   "metadata": {},
   "source": [
    "key_to_columns is one of the major routines that we will need to prepare a flat table to be a chart.  What we have is a set of records with the fields (in this case) (state, year, candidate, party, votes, pct), and what we want (say) is a table of the form (year, republican votes, democrat votes).  republican, democrat are values in the party field.\n",
    "Arguments:\n",
    "* df: data frame in the flat form\n",
    "* key_name: field to extract the values from\n",
    "* merge_name: the field which is common to both (in the example above, year)\n",
    "* rename_value_name: the field which is to be extracted and renamed for the value of the key name.  In the example above, votes is renamed republican or democrat"
   ]
  },
  {
   "cell_type": "code",
   "execution_count": null,
   "metadata": {},
   "outputs": [],
   "source": [
    "def key_to_columns(df, key_name, merge_name, rename_value_name):\n",
    "    key_values = set(df[key_name].tolist())\n",
    "    frames = []\n",
    "    for value in key_values:\n",
    "        value_record_frame = df[df[key_name] == value][[merge_name, rename_value_name]].rename(columns = {rename_value_name: value})\n",
    "        frames.append(value_record_frame)\n",
    "    result = frames[0]\n",
    "    for frame in frames[1:]:\n",
    "        result = pd.merge(result, frame, on=merge_name, how='outer')\n",
    "    return result\n"
   ]
  },
  {
   "cell_type": "markdown",
   "metadata": {},
   "source": [
    "Get the data for the year.  This returns a table (data frame) with fields (Party, State, Pct), which shows the percentage each party got in the selected year.  This colors the map (not quite) in the demo"
   ]
  },
  {
   "cell_type": "code",
   "execution_count": null,
   "metadata": {},
   "outputs": [],
   "source": [
    "def get_data_for_year(year):\n",
    "    data = election_data[election_data['Year'] == year]\n",
    "    return key_to_columns(data, 'Party', 'State', 'Pct')\n",
    "   "
   ]
  },
  {
   "cell_type": "markdown",
   "metadata": {},
   "source": [
    "Get the data for the state year.  This returns a table (data frame) with fields (Candidate, Party, Votes), which shows the votes each candidate  got in the selected year and state.  This fills the bottom-left image chart in the demo"
   ]
  },
  {
   "cell_type": "code",
   "execution_count": null,
   "metadata": {},
   "outputs": [],
   "source": [
    "def get_data_for_year_and_state(year, state):\n",
    "    return election_data[(election_data['Year'] == year)  & (election_data['State'] == state)][['Candidate', 'Party', 'Votes']]\n",
    "get_data_for_year_and_state(1904, 'Illinois')"
   ]
  },
  {
   "cell_type": "markdown",
   "metadata": {},
   "source": [
    "Get the historical data for each state.  This returns a data frame with fields (Year, Party, Pct Vote).  This is the data for the line chart in the bottom right."
   ]
  },
  {
   "cell_type": "code",
   "execution_count": null,
   "metadata": {},
   "outputs": [],
   "source": [
    "def get_data_for_state(state):\n",
    "    return key_to_columns(election_data[election_data['State'] == state], 'Party', 'Year', 'Pct') \n",
    "get_data_for_state('Illinois')"
   ]
  },
  {
   "cell_type": "code",
   "execution_count": null,
   "metadata": {},
   "outputs": [],
   "source": []
  }
 ],
 "metadata": {
  "kernelspec": {
   "display_name": "Python 3",
   "language": "python",
   "name": "python3"
  },
  "language_info": {
   "codemirror_mode": {
    "name": "ipython",
    "version": 3
   },
   "file_extension": ".py",
   "mimetype": "text/x-python",
   "name": "python",
   "nbconvert_exporter": "python",
   "pygments_lexer": "ipython3",
   "version": "3.7.3"
  }
 },
 "nbformat": 4,
 "nbformat_minor": 4
}
