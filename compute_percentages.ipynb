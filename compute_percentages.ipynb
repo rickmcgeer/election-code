{
 "cells": [
  {
   "cell_type": "markdown",
   "metadata": {},
   "source": [
    "Create the percentages file from the votes file, elections-1.csv"
   ]
  },
  {
   "cell_type": "code",
   "execution_count": 4,
   "metadata": {},
   "outputs": [],
   "source": [
    "import csv\n",
    "f = open('elections-1.csv', 'r')\n",
    "reader = csv.reader(f)\n",
    "rows = [row for row in reader]\n",
    "f.close()\n"
   ]
  },
  {
   "cell_type": "code",
   "execution_count": 34,
   "metadata": {},
   "outputs": [],
   "source": [
    "totals = [i for i in range(len(rows[1])) if rows[1][i] == 'Total']\n",
    "total_set = set(totals)\n",
    "def prev_total(j):\n",
    "    return [t for t in totals if t < j][-1]\n",
    "    \n",
    "\n",
    "def pct_votes(i, row):\n",
    "    if i in total_set:\n",
    "        return 1\n",
    "    total = row[prev_total(i)]\n",
    "    return 0 if total == 0 else round(row[i]/total, 5)\n",
    "\n",
    "def pct_row(row):\n",
    "    state = row[0]\n",
    "    votes = [0] + row[1:]\n",
    "    votes = [0 if v == '' else int(v) for v in votes]\n",
    "    pct = [pct_votes(i, votes) for i in range(1, len(votes))]\n",
    "    return [state] + pct\n",
    "\n",
    "pct_rows = [pct_row(row) for row in rows[3:]]\n",
    "f = open('election-pct.csv', 'w')\n",
    "w = csv.writer(f)\n",
    "w.writerows(rows[:3])\n",
    "w.writerows(pct_rows)\n",
    "f.close()"
   ]
  },
  {
   "cell_type": "code",
   "execution_count": null,
   "metadata": {},
   "outputs": [],
   "source": []
  }
 ],
 "metadata": {
  "kernelspec": {
   "display_name": "Python 3",
   "language": "python",
   "name": "python3"
  },
  "language_info": {
   "codemirror_mode": {
    "name": "ipython",
    "version": 3
   },
   "file_extension": ".py",
   "mimetype": "text/x-python",
   "name": "python",
   "nbconvert_exporter": "python",
   "pygments_lexer": "ipython3",
   "version": "3.7.3"
  }
 },
 "nbformat": 4,
 "nbformat_minor": 4
}
