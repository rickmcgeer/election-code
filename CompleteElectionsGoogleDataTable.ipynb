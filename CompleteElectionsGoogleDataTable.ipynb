{
 "cells": [
  {
   "cell_type": "markdown",
   "metadata": {},
   "source": [
    "This notebook takes the raw Presidential Elections spreadsheet in elections.csv and converts it into a GoogleDataTable, output as the file presidential_data_google.json.  This involves:\n",
    "1. Splitting the combined field \\<candidateName> - \\<party> into two fields, candidate and party\n",
    "2. Converting years to integers and putting in the missing years (converting '2016', '', '' to 2016, 2016, 2016\n",
    "3. Collecting the cells of a particular state and year into a structure, with the individual candidates as a list\n",
    "4. Converting the votes into integers, and then, for each result, adding a percentage float\n",
    "5. generating the individual records (state, year, candidate, party, votes, percentage) as a list\n",
    "6. adding the description\n",
    "7. creating the data table\n",
    "8. Writing this out as a JSON file\n",
    "\n",
    "Step 1: read in the CSV."
   ]
  },
  {
   "cell_type": "code",
   "execution_count": 40,
   "metadata": {},
   "outputs": [],
   "source": [
    "import csv\n",
    "f = open('elections.csv', 'r')\n",
    "election_reader = csv.reader(f)\n",
    "rows = [row for row in election_reader]\n",
    "f.close()"
   ]
  },
  {
   "cell_type": "markdown",
   "metadata": {},
   "source": [
    "In the raw file, candidates and parties are in the same field, split by a dash.  Separate into two fields"
   ]
  },
  {
   "cell_type": "code",
   "execution_count": 41,
   "metadata": {},
   "outputs": [],
   "source": [
    "candidate_row = rows[1]\n",
    "candidate_fields = [field.split(' - ') for field in candidate_row]\n",
    "candidates = [field[0] for field in candidate_fields]\n",
    "parties = [field[1] if len(field) == 2 else field[0] for field in candidate_fields]\n"
   ]
  },
  {
   "cell_type": "markdown",
   "metadata": {},
   "source": [
    "There are missing years in the data -- the year is only present in the first cell of a year.  Fill in the rest.  Also, convert each actual year to an integer."
   ]
  },
  {
   "cell_type": "code",
   "execution_count": 42,
   "metadata": {},
   "outputs": [],
   "source": [
    "years = rows[0]\n",
    "last_year = years[0]\n",
    "for i in range(1, len(years)):\n",
    "    if (years[i] == ''):\n",
    "        years[i] = last_year\n",
    "    else:\n",
    "        last_year = years[i]\n",
    "years = ['Years'] + [int(year) for year in years[1:]]\n"
   ]
  },
  {
   "cell_type": "markdown",
   "metadata": {},
   "source": [
    "A record for each state and year.  We are going to (1) create the state and year; (2) add the votes for each candidate to the record, putting total in total,\n",
    "and then (3) create the percentage once everything has been read.  Note that we're going to trim records with zero total before creating the percentages.  As a side effect, when adding percentages we also add state and year to the record, because this is what we'll want in the row."
   ]
  },
  {
   "cell_type": "code",
   "execution_count": 43,
   "metadata": {},
   "outputs": [],
   "source": [
    "class StateAndYear:\n",
    "    def __init__(self, state, year):\n",
    "        self.year = int(year)\n",
    "        self.state = state\n",
    "        self.candidates = []\n",
    "        self.total = 0\n",
    "        \n",
    "    def add_candidate(self, candidate, party, votes):\n",
    "        if (candidate == 'Total'):\n",
    "            self.total = votes\n",
    "        else:\n",
    "            self.candidates.append([candidate, party, votes])\n",
    "    \n",
    "    def add_percentages(self):\n",
    "        self.candidates = [[self.state, self.year, cand[0], cand[1], cand[2], round(1.0 * cand[2]/self.total, 3)] for cand in self.candidates]"
   ]
  },
  {
   "cell_type": "markdown",
   "metadata": {},
   "source": [
    "Create the state and year records, sticking them in a dictionary indexed by state and year.  Note that votes are converted to int before being added to the record."
   ]
  },
  {
   "cell_type": "code",
   "execution_count": 44,
   "metadata": {},
   "outputs": [],
   "source": [
    "state_and_year_dictionary = {}\n",
    "year_set  = set(years[1:])\n",
    "for row in rows[2:]:\n",
    "    state = row[0]\n",
    "    for year in year_set:\n",
    "        state_and_year_dictionary[(state, year)] = StateAndYear(state, year)\n",
    "    for index in range(2, len(row)):\n",
    "        try:\n",
    "            votes = int(row[index])\n",
    "            year = years[index]\n",
    "            candidate = candidates[index]\n",
    "            party = parties[index]\n",
    "            state_and_year_dictionary[(state, year)].add_candidate(candidate, party, votes)\n",
    "        except ValueError:\n",
    "            pass"
   ]
  },
  {
   "cell_type": "markdown",
   "metadata": {},
   "source": [
    "Trim the records with 0 total, add the percentages, collect and sort the records, and add a header"
   ]
  },
  {
   "cell_type": "code",
   "execution_count": 45,
   "metadata": {},
   "outputs": [],
   "source": [
    "record_list = [record for record in state_and_year_dictionary.values() if record.total > 0]\n",
    "for record in record_list:\n",
    "    record.add_percentages()\n",
    "    \n",
    "data = []\n",
    "for record in record_list:\n",
    "    data = data + record.candidates"
   ]
  },
  {
   "cell_type": "code",
   "execution_count": 46,
   "metadata": {},
   "outputs": [],
   "source": [
    "import gviz_api\n",
    "schema = [(\"State\", \"string\"), (\"Year\", \"number\"), (\"Candidate\", \"string\"), (\"Party\", \"string\"), (\"Votes\", \"number\"), (\"Pct\", \"number\")]\n",
    "# At some point try (\"Year\", \"number\", \"Year\", {f: \"####\"}) to get proper formatting\n",
    "data_table = gviz_api.DataTable(schema)\n",
    "data_table.LoadData(data)\n"
   ]
  },
  {
   "cell_type": "code",
   "execution_count": 47,
   "metadata": {},
   "outputs": [],
   "source": [
    "import json\n",
    "google_table = data_table.ToJSon(columns_order=(\"State\", \"Year\", \"Candidate\", \"Party\", \"Votes\", \"Pct\"),\n",
    "                           order_by=( \"Year\", \"State\", \"Party\"))\n",
    "f = open('presidential_data_google.json', 'w')\n",
    "f.write('{\"name\":\"presidential_vote\", \"table\": %s}' % google_table)\n",
    "f.close()"
   ]
  },
  {
   "cell_type": "code",
   "execution_count": null,
   "metadata": {},
   "outputs": [],
   "source": []
  }
 ],
 "metadata": {
  "kernelspec": {
   "display_name": "Python 3",
   "language": "python",
   "name": "python3"
  },
  "language_info": {
   "codemirror_mode": {
    "name": "ipython",
    "version": 3
   },
   "file_extension": ".py",
   "mimetype": "text/x-python",
   "name": "python",
   "nbconvert_exporter": "python",
   "pygments_lexer": "ipython3",
   "version": "3.7.3"
  }
 },
 "nbformat": 4,
 "nbformat_minor": 4
}
