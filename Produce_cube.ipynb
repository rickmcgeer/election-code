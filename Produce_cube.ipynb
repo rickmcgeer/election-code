{
 "cells": [
  {
   "cell_type": "markdown",
   "metadata": {},
   "source": [
    "From election-rows.csv, produce a cube in the appropriate format for the Galyleo Dashboard Studio"
   ]
  },
  {
   "cell_type": "code",
   "execution_count": 11,
   "metadata": {},
   "outputs": [],
   "source": [
    "f = open('election-rows.csv', 'r')\n",
    "import csv\n",
    "r = csv.reader(f)\n",
    "rows = [row for row in r]\n",
    "f.close()"
   ]
  },
  {
   "cell_type": "code",
   "execution_count": 12,
   "metadata": {},
   "outputs": [],
   "source": [
    "header = rows[0]\n",
    "dimensions = [{\"name\": \"Year\", \"type\": \"int\"}] + [{\"name\": colName, \"type\": \"string\"} for colName in header[1:4]]\n",
    "measures = [{\"name\": \"Votes\", \"type\": \"int\"}, {\"name\": \"Pct\", \"type\": \"float\"}]"
   ]
  },
  {
   "cell_type": "code",
   "execution_count": null,
   "metadata": {},
   "outputs": [],
   "source": [
    "header"
   ]
  },
  {
   "cell_type": "markdown",
   "metadata": {},
   "source": [
    "Clean up the data"
   ]
  },
  {
   "cell_type": "code",
   "execution_count": 1,
   "metadata": {},
   "outputs": [],
   "source": [
    "data_rows = [row[:4] + [int(row[4]), round(float(row[5]), 3)] for row in rows[1:]]"
   ]
  },
  {
   "cell_type": "code",
   "execution_count": 15,
   "metadata": {},
   "outputs": [],
   "source": [
    "output_data = [header] + data_rows"
   ]
  },
  {
   "cell_type": "code",
   "execution_count": 16,
   "metadata": {},
   "outputs": [],
   "source": [
    "result = {\"cubeName\": \"PresidentialData\", \"dimensions\": dimensions, \"measures\": measures, \"cacheable\": True, \"streaming\": False, \"data\": output_data}\n",
    "github_header = \"https://raw.githubusercontent.com/rickmcgeer/election-code/main/\"\n",
    "file_name = \"presidential_data.json\"\n",
    "result[\"source\"] = github_header + file_name\n",
    "import json\n",
    "output = json.dumps(result)\n",
    "f1 = open(file_name, 'w')\n",
    "f1.write(output)\n",
    "f1.close()\n"
   ]
  },
  {
   "cell_type": "markdown",
   "metadata": {},
   "source": [
    "dimensions"
   ]
  },
  {
   "cell_type": "code",
   "execution_count": null,
   "metadata": {},
   "outputs": [],
   "source": []
  }
 ],
 "metadata": {
  "kernelspec": {
   "display_name": "Python 3",
   "language": "python",
   "name": "python3"
  },
  "language_info": {
   "codemirror_mode": {
    "name": "ipython",
    "version": 3
   },
   "file_extension": ".py",
   "mimetype": "text/x-python",
   "name": "python",
   "nbconvert_exporter": "python",
   "pygments_lexer": "ipython3",
   "version": "3.7.3"
  }
 },
 "nbformat": 4,
 "nbformat_minor": 4
}
